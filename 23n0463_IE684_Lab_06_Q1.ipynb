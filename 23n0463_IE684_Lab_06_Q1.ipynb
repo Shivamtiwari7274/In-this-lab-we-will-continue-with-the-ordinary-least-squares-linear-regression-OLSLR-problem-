{
  "nbformat": 4,
  "nbformat_minor": 0,
  "metadata": {
    "colab": {
      "provenance": []
    },
    "kernelspec": {
      "name": "python3",
      "display_name": "Python 3"
    },
    "language_info": {
      "name": "python"
    }
  },
  "cells": [
    {
      "cell_type": "markdown",
      "source": [
        "1. Use Newton’s method to solve the problem (1), which is direct OLSLR. Use the starting point x = 0. Report\n",
        "the difficulties, you encounter. Check if these difficulties remain if you use Newton’s method to solve the\n",
        "problem (2), the regularized OLSLR with λ = 0.001 and the same starting point. Explain the reasons for your\n",
        "observation. Report the values of x∗f and x∗fλ\n",
        "."
      ],
      "metadata": {
        "id": "eHZMiWaBr-aW"
      }
    },
    {
      "cell_type": "code",
      "execution_count": null,
      "metadata": {
        "colab": {
          "base_uri": "https://localhost:8080/"
        },
        "id": "zKx59_HcrD4U",
        "outputId": "f110803e-f66e-4780-cd28-18370d0025a3"
      },
      "outputs": [
        {
          "output_type": "stream",
          "name": "stdout",
          "text": [
            "(1797, 64)\n",
            "(1797,)\n"
          ]
        }
      ],
      "source": [
        "import numpy as np\n",
        "from sklearn.datasets import load_digits\n",
        "digits = load_digits ()\n",
        "# check the shape of digits data\n",
        "print ( digits.data.shape )\n",
        "# check the shape of digits target\n",
        "print ( digits.target.shape )\n",
        "#let us use the linear regression used in the previous lab\n",
        "#N = digits . data . shape [0] # Number of data points\n",
        "#d = digits . data . shape [1] # Dimension of data points\n",
        "A = digits.data\n",
        "#In the following code , we create a NX1 vector of target labels\n",
        "y = 1.0* np.ones ([A.shape[0] ,1])\n",
        "for i in range ( digits.target.shape [0]):\n",
        "   y[i] = digits.target [i]"
      ]
    },
    {
      "cell_type": "code",
      "source": [
        "import numpy as np\n",
        "from math import sqrt, pi\n",
        "from numpy import exp, cos, sin\n",
        "from numpy.linalg import norm\n",
        "import time"
      ],
      "metadata": {
        "id": "MubrcKTCsQG2"
      },
      "execution_count": null,
      "outputs": []
    },
    {
      "cell_type": "code",
      "source": [
        "#Problem 1\n",
        "def fx(x):\n",
        "  return (1/2)*(norm(A@x-y)**2)\n",
        "\n",
        "def grad_fx(x):\n",
        "  return np.dot(A.transpose(), A)@x - A.transpose()@y\n",
        "\n",
        "def hessian_fx():\n",
        "  return A.transpose()@A\n",
        "\n",
        "def dk_fx():\n",
        "  return np.linalg.inv(hessian_fx())\n",
        "\n",
        "def get_alpha_newton(xk, alpha0, rho, gamma, Dk):\n",
        "  alpha = alpha0\n",
        "  pk = -grad_fx(xk)\n",
        "  while fx(xk + alpha*Dk@pk) > (fx(xk) + gamma*alpha*grad_fx(xk)@Dk@pk):\n",
        "    alpha = rho*alpha\n",
        "  return alpha\n",
        "import time\n",
        "def newton_method_with_backtracking(x0, tau, alpha0, rho, gamma):\n",
        "  xk = np.copy(x0)\n",
        "  count = 0\n",
        "  pk = grad_fx(xk)\n",
        "  xks = []\n",
        "  xks.append(xk)\n",
        "  while norm(pk)>tau:\n",
        "    Dk = dk_fx()\n",
        "    alpha = get_alpha_newton(xk, alpha0, rho, gamma, Dk)\n",
        "    xk = xk - alpha*Dk@pk\n",
        "    pk = grad_fx(xk)\n",
        "    xks.append(xk)\n",
        "    count += 1\n",
        "  return count, xk, fx(xk), xks\n",
        "\n",
        "\n",
        "x0 = np.array([0 for _ in range(64)])\n",
        "tau = 1e-5\n",
        "alpha0 = 0.99\n",
        "rho = 0.5\n",
        "gamma = 0.5\n",
        "start = time.time()\n",
        "count2, final_xk2, final_val2, xks2= newton_method_with_backtracking(x0, tau, alpha0, rho, gamma)\n",
        "newtontime = time.time() - start\n",
        "print(\"Number of iteration is\",count2,\"Minimizer is\", final_xk2,\"Minimum value is\",final_val2,\"newton with backtracking\")"
      ],
      "metadata": {
        "colab": {
          "base_uri": "https://localhost:8080/",
          "height": 356
        },
        "id": "6cQl8CcvsCVI",
        "outputId": "91388fed-3dcd-49d3-8123-c605cd758456"
      },
      "execution_count": null,
      "outputs": [
        {
          "output_type": "error",
          "ename": "LinAlgError",
          "evalue": "Singular matrix",
          "traceback": [
            "\u001b[0;31m---------------------------------------------------------------------------\u001b[0m",
            "\u001b[0;31mLinAlgError\u001b[0m                               Traceback (most recent call last)",
            "\u001b[0;32m<ipython-input-3-9b1bfc0958ed>\u001b[0m in \u001b[0;36m<cell line: 43>\u001b[0;34m()\u001b[0m\n\u001b[1;32m     41\u001b[0m \u001b[0mgamma\u001b[0m \u001b[0;34m=\u001b[0m \u001b[0;36m0.5\u001b[0m\u001b[0;34m\u001b[0m\u001b[0;34m\u001b[0m\u001b[0m\n\u001b[1;32m     42\u001b[0m \u001b[0mstart\u001b[0m \u001b[0;34m=\u001b[0m \u001b[0mtime\u001b[0m\u001b[0;34m.\u001b[0m\u001b[0mtime\u001b[0m\u001b[0;34m(\u001b[0m\u001b[0;34m)\u001b[0m\u001b[0;34m\u001b[0m\u001b[0;34m\u001b[0m\u001b[0m\n\u001b[0;32m---> 43\u001b[0;31m \u001b[0mcount2\u001b[0m\u001b[0;34m,\u001b[0m \u001b[0mfinal_xk2\u001b[0m\u001b[0;34m,\u001b[0m \u001b[0mfinal_val2\u001b[0m\u001b[0;34m,\u001b[0m \u001b[0mxks2\u001b[0m\u001b[0;34m=\u001b[0m \u001b[0mnewton_method_with_backtracking\u001b[0m\u001b[0;34m(\u001b[0m\u001b[0mx0\u001b[0m\u001b[0;34m,\u001b[0m \u001b[0mtau\u001b[0m\u001b[0;34m,\u001b[0m \u001b[0malpha0\u001b[0m\u001b[0;34m,\u001b[0m \u001b[0mrho\u001b[0m\u001b[0;34m,\u001b[0m \u001b[0mgamma\u001b[0m\u001b[0;34m)\u001b[0m\u001b[0;34m\u001b[0m\u001b[0;34m\u001b[0m\u001b[0m\n\u001b[0m\u001b[1;32m     44\u001b[0m \u001b[0mnewtontime\u001b[0m \u001b[0;34m=\u001b[0m \u001b[0mtime\u001b[0m\u001b[0;34m.\u001b[0m\u001b[0mtime\u001b[0m\u001b[0;34m(\u001b[0m\u001b[0;34m)\u001b[0m \u001b[0;34m-\u001b[0m \u001b[0mstart\u001b[0m\u001b[0;34m\u001b[0m\u001b[0;34m\u001b[0m\u001b[0m\n\u001b[1;32m     45\u001b[0m \u001b[0mprint\u001b[0m\u001b[0;34m(\u001b[0m\u001b[0;34m\"Number of iteration is\"\u001b[0m\u001b[0;34m,\u001b[0m\u001b[0mcount2\u001b[0m\u001b[0;34m,\u001b[0m\u001b[0;34m\"Minimizer is\"\u001b[0m\u001b[0;34m,\u001b[0m \u001b[0mfinal_xk2\u001b[0m\u001b[0;34m,\u001b[0m\u001b[0;34m\"Minimum value is\"\u001b[0m\u001b[0;34m,\u001b[0m\u001b[0mfinal_val2\u001b[0m\u001b[0;34m,\u001b[0m\u001b[0;34m\"newton with backtracking\"\u001b[0m\u001b[0;34m)\u001b[0m\u001b[0;34m\u001b[0m\u001b[0;34m\u001b[0m\u001b[0m\n",
            "\u001b[0;32m<ipython-input-3-9b1bfc0958ed>\u001b[0m in \u001b[0;36mnewton_method_with_backtracking\u001b[0;34m(x0, tau, alpha0, rho, gamma)\u001b[0m\n\u001b[1;32m     26\u001b[0m   \u001b[0mxks\u001b[0m\u001b[0;34m.\u001b[0m\u001b[0mappend\u001b[0m\u001b[0;34m(\u001b[0m\u001b[0mxk\u001b[0m\u001b[0;34m)\u001b[0m\u001b[0;34m\u001b[0m\u001b[0;34m\u001b[0m\u001b[0m\n\u001b[1;32m     27\u001b[0m   \u001b[0;32mwhile\u001b[0m \u001b[0mnorm\u001b[0m\u001b[0;34m(\u001b[0m\u001b[0mpk\u001b[0m\u001b[0;34m)\u001b[0m\u001b[0;34m>\u001b[0m\u001b[0mtau\u001b[0m\u001b[0;34m:\u001b[0m\u001b[0;34m\u001b[0m\u001b[0;34m\u001b[0m\u001b[0m\n\u001b[0;32m---> 28\u001b[0;31m     \u001b[0mDk\u001b[0m \u001b[0;34m=\u001b[0m \u001b[0mdk_fx\u001b[0m\u001b[0;34m(\u001b[0m\u001b[0;34m)\u001b[0m\u001b[0;34m\u001b[0m\u001b[0;34m\u001b[0m\u001b[0m\n\u001b[0m\u001b[1;32m     29\u001b[0m     \u001b[0malpha\u001b[0m \u001b[0;34m=\u001b[0m \u001b[0mget_alpha_newton\u001b[0m\u001b[0;34m(\u001b[0m\u001b[0mxk\u001b[0m\u001b[0;34m,\u001b[0m \u001b[0malpha0\u001b[0m\u001b[0;34m,\u001b[0m \u001b[0mrho\u001b[0m\u001b[0;34m,\u001b[0m \u001b[0mgamma\u001b[0m\u001b[0;34m,\u001b[0m \u001b[0mDk\u001b[0m\u001b[0;34m)\u001b[0m\u001b[0;34m\u001b[0m\u001b[0;34m\u001b[0m\u001b[0m\n\u001b[1;32m     30\u001b[0m     \u001b[0mxk\u001b[0m \u001b[0;34m=\u001b[0m \u001b[0mxk\u001b[0m \u001b[0;34m-\u001b[0m \u001b[0malpha\u001b[0m\u001b[0;34m*\u001b[0m\u001b[0mDk\u001b[0m\u001b[0;34m@\u001b[0m\u001b[0mpk\u001b[0m\u001b[0;34m\u001b[0m\u001b[0;34m\u001b[0m\u001b[0m\n",
            "\u001b[0;32m<ipython-input-3-9b1bfc0958ed>\u001b[0m in \u001b[0;36mdk_fx\u001b[0;34m()\u001b[0m\n\u001b[1;32m     10\u001b[0m \u001b[0;34m\u001b[0m\u001b[0m\n\u001b[1;32m     11\u001b[0m \u001b[0;32mdef\u001b[0m \u001b[0mdk_fx\u001b[0m\u001b[0;34m(\u001b[0m\u001b[0;34m)\u001b[0m\u001b[0;34m:\u001b[0m\u001b[0;34m\u001b[0m\u001b[0;34m\u001b[0m\u001b[0m\n\u001b[0;32m---> 12\u001b[0;31m   \u001b[0;32mreturn\u001b[0m \u001b[0mnp\u001b[0m\u001b[0;34m.\u001b[0m\u001b[0mlinalg\u001b[0m\u001b[0;34m.\u001b[0m\u001b[0minv\u001b[0m\u001b[0;34m(\u001b[0m\u001b[0mhessian_fx\u001b[0m\u001b[0;34m(\u001b[0m\u001b[0;34m)\u001b[0m\u001b[0;34m)\u001b[0m\u001b[0;34m\u001b[0m\u001b[0;34m\u001b[0m\u001b[0m\n\u001b[0m\u001b[1;32m     13\u001b[0m \u001b[0;34m\u001b[0m\u001b[0m\n\u001b[1;32m     14\u001b[0m \u001b[0;32mdef\u001b[0m \u001b[0mget_alpha_newton\u001b[0m\u001b[0;34m(\u001b[0m\u001b[0mxk\u001b[0m\u001b[0;34m,\u001b[0m \u001b[0malpha0\u001b[0m\u001b[0;34m,\u001b[0m \u001b[0mrho\u001b[0m\u001b[0;34m,\u001b[0m \u001b[0mgamma\u001b[0m\u001b[0;34m,\u001b[0m \u001b[0mDk\u001b[0m\u001b[0;34m)\u001b[0m\u001b[0;34m:\u001b[0m\u001b[0;34m\u001b[0m\u001b[0;34m\u001b[0m\u001b[0m\n",
            "\u001b[0;32m/usr/local/lib/python3.10/dist-packages/numpy/linalg/linalg.py\u001b[0m in \u001b[0;36minv\u001b[0;34m(a)\u001b[0m\n\u001b[1;32m    559\u001b[0m     \u001b[0msignature\u001b[0m \u001b[0;34m=\u001b[0m \u001b[0;34m'D->D'\u001b[0m \u001b[0;32mif\u001b[0m \u001b[0misComplexType\u001b[0m\u001b[0;34m(\u001b[0m\u001b[0mt\u001b[0m\u001b[0;34m)\u001b[0m \u001b[0;32melse\u001b[0m \u001b[0;34m'd->d'\u001b[0m\u001b[0;34m\u001b[0m\u001b[0;34m\u001b[0m\u001b[0m\n\u001b[1;32m    560\u001b[0m     \u001b[0mextobj\u001b[0m \u001b[0;34m=\u001b[0m \u001b[0mget_linalg_error_extobj\u001b[0m\u001b[0;34m(\u001b[0m\u001b[0m_raise_linalgerror_singular\u001b[0m\u001b[0;34m)\u001b[0m\u001b[0;34m\u001b[0m\u001b[0;34m\u001b[0m\u001b[0m\n\u001b[0;32m--> 561\u001b[0;31m     \u001b[0mainv\u001b[0m \u001b[0;34m=\u001b[0m \u001b[0m_umath_linalg\u001b[0m\u001b[0;34m.\u001b[0m\u001b[0minv\u001b[0m\u001b[0;34m(\u001b[0m\u001b[0ma\u001b[0m\u001b[0;34m,\u001b[0m \u001b[0msignature\u001b[0m\u001b[0;34m=\u001b[0m\u001b[0msignature\u001b[0m\u001b[0;34m,\u001b[0m \u001b[0mextobj\u001b[0m\u001b[0;34m=\u001b[0m\u001b[0mextobj\u001b[0m\u001b[0;34m)\u001b[0m\u001b[0;34m\u001b[0m\u001b[0;34m\u001b[0m\u001b[0m\n\u001b[0m\u001b[1;32m    562\u001b[0m     \u001b[0;32mreturn\u001b[0m \u001b[0mwrap\u001b[0m\u001b[0;34m(\u001b[0m\u001b[0mainv\u001b[0m\u001b[0;34m.\u001b[0m\u001b[0mastype\u001b[0m\u001b[0;34m(\u001b[0m\u001b[0mresult_t\u001b[0m\u001b[0;34m,\u001b[0m \u001b[0mcopy\u001b[0m\u001b[0;34m=\u001b[0m\u001b[0;32mFalse\u001b[0m\u001b[0;34m)\u001b[0m\u001b[0;34m)\u001b[0m\u001b[0;34m\u001b[0m\u001b[0;34m\u001b[0m\u001b[0m\n\u001b[1;32m    563\u001b[0m \u001b[0;34m\u001b[0m\u001b[0m\n",
            "\u001b[0;32m/usr/local/lib/python3.10/dist-packages/numpy/linalg/linalg.py\u001b[0m in \u001b[0;36m_raise_linalgerror_singular\u001b[0;34m(err, flag)\u001b[0m\n\u001b[1;32m    110\u001b[0m \u001b[0;34m\u001b[0m\u001b[0m\n\u001b[1;32m    111\u001b[0m \u001b[0;32mdef\u001b[0m \u001b[0m_raise_linalgerror_singular\u001b[0m\u001b[0;34m(\u001b[0m\u001b[0merr\u001b[0m\u001b[0;34m,\u001b[0m \u001b[0mflag\u001b[0m\u001b[0;34m)\u001b[0m\u001b[0;34m:\u001b[0m\u001b[0;34m\u001b[0m\u001b[0;34m\u001b[0m\u001b[0m\n\u001b[0;32m--> 112\u001b[0;31m     \u001b[0;32mraise\u001b[0m \u001b[0mLinAlgError\u001b[0m\u001b[0;34m(\u001b[0m\u001b[0;34m\"Singular matrix\"\u001b[0m\u001b[0;34m)\u001b[0m\u001b[0;34m\u001b[0m\u001b[0;34m\u001b[0m\u001b[0m\n\u001b[0m\u001b[1;32m    113\u001b[0m \u001b[0;34m\u001b[0m\u001b[0m\n\u001b[1;32m    114\u001b[0m \u001b[0;32mdef\u001b[0m \u001b[0m_raise_linalgerror_nonposdef\u001b[0m\u001b[0;34m(\u001b[0m\u001b[0merr\u001b[0m\u001b[0;34m,\u001b[0m \u001b[0mflag\u001b[0m\u001b[0;34m)\u001b[0m\u001b[0;34m:\u001b[0m\u001b[0;34m\u001b[0m\u001b[0;34m\u001b[0m\u001b[0m\n",
            "\u001b[0;31mLinAlgError\u001b[0m: Singular matrix"
          ]
        }
      ]
    },
    {
      "cell_type": "markdown",
      "source": [
        "**Difficulties Encountered:** When applying Newton’s method, we encountered a singular matrix error. This error occurs when the matrix involved in the Hessian (second derivative) of the objective function becomes singular (non-invertible). In other words, the determinant of the Hessian matrix is zero, which means that the matrix cannot be inverted."
      ],
      "metadata": {
        "id": "bhUFbHzHt21F"
      }
    },
    {
      "cell_type": "markdown",
      "source": [],
      "metadata": {
        "id": "jWIOA8UQwH9M"
      }
    },
    {
      "cell_type": "code",
      "source": [
        "# Problem 2\n",
        "y = digits.target\n",
        "def fx(x, lamda):\n",
        "  return (1/2)*norm(A@x-y)**2 + (1/2)*lamda*np.dot(x,x)\n",
        "\n",
        "def grad_fx(x, lamda):\n",
        "  return np.dot(A.transpose(), A)@x - A.transpose()@y + lamda*x\n",
        "\n",
        "def hessian_fx(lamda):\n",
        "  return A.transpose()@A + lamda*np.identity(A.shape[1])\n",
        "\n",
        "def dk_fx(lamda):\n",
        "  return np.linalg.inv(hessian_fx(lamda))\n",
        "\n",
        "def get_alpha_newton(xk, alpha0, rho, gamma, Dk, lamda):\n",
        "  alpha = alpha0\n",
        "  pk = -grad_fx(xk, lamda)\n",
        "  while fx(xk + alpha*Dk@pk, lamda) > (fx(xk, lamda) + gamma*alpha*grad_fx(xk, lamda)@Dk@pk):\n",
        "    alpha = rho*alpha\n",
        "  return alpha\n",
        "\n",
        "def newton_method_with_backtracking(x0, tau, alpha0, rho, gamma, lamda):\n",
        "  xk = np.copy(x0)\n",
        "  count = 0\n",
        "  pk = grad_fx(xk, lamda)\n",
        "  xks = []\n",
        "  xks.append(xk)\n",
        "  while norm(pk)>tau:\n",
        "    Dk = dk_fx(lamda)\n",
        "    alpha = get_alpha_newton(xk, alpha0, rho, gamma, Dk, lamda)\n",
        "    xk = xk - alpha*Dk@pk\n",
        "    pk = grad_fx(xk, lamda)\n",
        "    xks.append(xk)\n",
        "    count += 1\n",
        "  return count, xk, fx(xk, lamda), xks\n",
        "\n",
        "def newton_method_with_backtracking(x0, tau, alpha0, rho, gamma, lamda):\n",
        "  xk = np.copy(x0)\n",
        "  count = 0\n",
        "  pk = grad_fx(xk, lamda)\n",
        "  xks = []\n",
        "  xks.append(xk)\n",
        "  while norm(pk)>tau:\n",
        "    Dk = dk_fx(lamda)\n",
        "    alpha = get_alpha_newton(xk, alpha0, rho, gamma, Dk, lamda)\n",
        "    xk = xk - alpha*Dk@pk\n",
        "    pk = grad_fx(xk, lamda)\n",
        "    xks.append(xk)\n",
        "    count += 1\n",
        "  return count, xk, fx(xk, lamda), xks\n",
        "\n",
        "\n",
        "\n",
        "x0 = np.array([0 for _ in range(64)])\n",
        "tau = 1e-4\n",
        "alpha0 = 0.99\n",
        "rho = 0.5\n",
        "gamma = 0.5\n",
        "\n",
        "\n",
        "lambdaxksnewton = []\n",
        "iterationcountlambdanewton = []\n",
        "timetakennewton = []\n",
        "\n",
        "\n",
        "lds = [10**(-3)]\n",
        "for lamda in lds:\n",
        "  start = time.time()\n",
        "  count2, final_xk2, final_val2, xks2= newton_method_with_backtracking(x0, tau, alpha0, rho, gamma, lamda)\n",
        "  timetakennewton.append(time.time()- start)\n",
        "  print(\"Lembda\",lamda)\n",
        "  print(\"Number of iteration\",count2)\n",
        "  print(\"Minimizer is \",final_xk2,\"Minimum value is\",final_val2,\"for Newton\")\n",
        "  lambdaxksnewton.append(xks2)\n",
        "  iterationcountlambdanewton.append(count2)"
      ],
      "metadata": {
        "colab": {
          "base_uri": "https://localhost:8080/"
        },
        "id": "xufJzLinwHgJ",
        "outputId": "eb6ac181-5da1-4b9c-82f9-6fae46992c2d"
      },
      "execution_count": null,
      "outputs": [
        {
          "output_type": "stream",
          "name": "stdout",
          "text": [
            "Lembda 0.001\n",
            "Number of iteration 5\n",
            "Minimizer is  [ 0.00000000e+00  9.69076882e-02 -4.32192762e-03 -7.75916338e-03\n",
            "  7.49591987e-02  1.13946582e-02 -2.71293921e-02 -7.34410664e-03\n",
            "  9.98267907e-01 -2.88089376e-02  1.18688356e-01  6.60922719e-02\n",
            " -5.57075915e-02 -6.97056149e-02  9.65844014e-02  2.55196013e-01\n",
            " -7.29830665e-01  2.42711745e-02  7.73241544e-02 -2.33008498e-02\n",
            " -5.64077619e-02  5.72413971e-02 -4.88675248e-02 -2.62555998e-01\n",
            " -9.06071169e-01 -1.49769638e-01  5.64022790e-02  8.96665319e-02\n",
            "  8.39315938e-02  9.85410047e-02  1.69269848e-03 -2.96649688e+00\n",
            "  0.00000000e+00 -1.54361470e-01 -9.32404639e-03  1.39497978e-01\n",
            " -3.69237437e-02  5.46111773e-02 -9.20425586e-03  0.00000000e+00\n",
            "  1.03326506e-01  1.23983484e-01 -1.37635230e-02  5.40029021e-03\n",
            "  1.31185700e-01  5.49577815e-02  2.24935899e-02  7.48046265e-03\n",
            "  6.17507773e-01  2.44100619e-02  1.42356436e-03 -6.21114801e-02\n",
            " -2.07024631e-01 -3.38510517e-02  1.05486785e-01 -1.40336482e-01\n",
            " -9.82347827e-01 -1.14473639e-01  2.10485229e-02 -4.36083412e-02\n",
            "  1.87372531e-02 -6.66562217e-02  1.19384465e-02 -5.27782515e-02] Minimum value is 3064.454188158828 for Newton\n"
          ]
        }
      ]
    },
    {
      "cell_type": "markdown",
      "source": [
        "2. Use the BFGS method with starting point x = 0, to solve the problem (1) and describe if you observe any\n",
        "difficulty. Check if solving the regularized problem (2) helps (use λ = 0.001 and starting point x = 0). Explain\n",
        "your observations. Report the values of x∗f and x∗fλ\n",
        "."
      ],
      "metadata": {
        "id": "buOEV6jaoz-W"
      }
    },
    {
      "cell_type": "code",
      "source": [
        "# BFGS for problem 1\n",
        "def fx(x):\n",
        "  return (1/2)*(norm(A@x-y)**2)\n",
        "\n",
        "def grad_fx(x):\n",
        "  return np.dot(A.transpose(), A)@x - A.transpose()@y\n",
        "\n",
        "def hessian_fx():\n",
        "  return A.transpose()@A\n",
        "\n",
        "def dk_fx():\n",
        "  return np.linalg.inv(hessian_fx())\n",
        "\n",
        "def get_alpha_bfgs(xk, alpha0, rho, gamma, Bk):\n",
        "  alpha = alpha0\n",
        "  pk = -grad_fx(xk)\n",
        "  while fx(xk + alpha*Bk@pk) > (fx(xk) + gamma*alpha*grad_fx(xk)@Bk@pk):\n",
        "    alpha = rho*alpha\n",
        "  return alpha\n",
        "\n",
        "\n",
        "def bfgs(x0, tau, alpha0, rho, gamma, max_iter=500):\n",
        "  xk = np.copy(x0)\n",
        "  n = len(x0)\n",
        "  Bk = np.eye(n)\n",
        "  count = 0\n",
        "  pk = grad_fx(xk)\n",
        "  xks = []\n",
        "  xks.append(xk)\n",
        "  while (norm(pk)>tau):\n",
        "    # if count > max_iter:\n",
        "    #   break\n",
        "\n",
        "    alpha = get_alpha_bfgs(xk, alpha0, rho, gamma, Bk)\n",
        "    xnext = xk - alpha*(Bk@pk)\n",
        "    sk = xnext - xk\n",
        "    yk = grad_fx(xnext) - grad_fx(xk)\n",
        "\n",
        "    Bk = np.dot((np.eye(len(xk)) - np.outer(sk, yk) / np.dot(yk, sk)), np.dot(Bk, (np.eye(len(xk)) - np.outer(yk, sk) / np.dot(yk, sk)))) + np.outer(sk, sk) / np.dot(yk, sk)\n",
        "\n",
        "    xk = xnext\n",
        "    pk = grad_fx(xk)\n",
        "    xks.append(xk)\n",
        "    count += 1\n",
        "\n",
        "  return count, xk, fx(xk), xks\n",
        "\n",
        "x0 = np.array([0 for _ in range(64)])\n",
        "tau = 1e-5\n",
        "alpha0 = 0.99\n",
        "rho = 0.5\n",
        "gamma = 0.5\n",
        "\n",
        "\n",
        "lambdaxksbfgs = []\n",
        "iterationcountlambdabfgs = []\n",
        "timetakenbfgs = []\n",
        "\n",
        "import time\n",
        "lds = [10**(-3)]\n",
        "for lamda in lds:\n",
        "  start = time.time()\n",
        "  count, minimizer, minimum, xks=bfgs(x0,tau, alpha0, rho, gamma)\n",
        "  timetakenbfgs.append(time.time()- start)\n",
        "  print(\"Lembda\",lamda)\n",
        "  print(\"Number of iteration\",count)\n",
        "  print(\"Minimizer is \",minimizer,\"Minimum value is\",minimum,\"for bfgs\")\n",
        "  lambdaxksbfgs.append(xks)\n",
        "  iterationcountlambdabfgs.append(count)"
      ],
      "metadata": {
        "colab": {
          "base_uri": "https://localhost:8080/"
        },
        "id": "gvtXrl7Do1TB",
        "outputId": "59ee0719-f0cb-4f83-8d0b-d00e3b247580"
      },
      "execution_count": null,
      "outputs": [
        {
          "output_type": "stream",
          "name": "stdout",
          "text": [
            "Lembda 0.001\n",
            "Number of iteration 74\n",
            "Minimizer is  [ 0.00000000e+00  9.69033568e-02 -4.32277231e-03 -7.76028319e-03\n",
            "  7.49594380e-02  1.13947198e-02 -2.71328245e-02 -7.33176337e-03\n",
            "  9.98337968e-01 -2.88095538e-02  1.18688288e-01  6.60916265e-02\n",
            " -5.57069862e-02 -6.97063705e-02  9.65876439e-02  2.55182251e-01\n",
            " -7.29828609e-01  2.42709916e-02  7.73249596e-02 -2.33000278e-02\n",
            " -5.64086144e-02  5.72426822e-02 -4.88717684e-02 -2.62467763e-01\n",
            " -9.06562828e-01 -1.49767791e-01  5.64019538e-02  8.96663590e-02\n",
            "  8.39318159e-02  9.85411936e-02  1.69317613e-03 -2.96805758e+00\n",
            "  0.00000000e+00 -1.54362338e-01 -9.32361206e-03  1.39497628e-01\n",
            " -3.69234835e-02  5.46111776e-02 -9.20505070e-03  0.00000000e+00\n",
            "  1.03279535e-01  1.23983258e-01 -1.37639605e-02  5.40087816e-03\n",
            "  1.31185107e-01  5.49570758e-02  2.24938237e-02  7.47977908e-03\n",
            "  6.17755029e-01  2.44122357e-02  1.42333037e-03 -6.21110760e-02\n",
            " -2.07025036e-01 -3.38506003e-02  1.05486736e-01 -1.40335958e-01\n",
            " -9.84169004e-01 -1.14467153e-01  2.10494893e-02 -4.36076105e-02\n",
            "  1.87374934e-02 -6.66567878e-02  1.19382626e-02 -5.27776612e-02] Minimum value is 3064.4477111757 for bfgs\n"
          ]
        }
      ]
    },
    {
      "cell_type": "code",
      "source": [
        "# bfgs for problem 2\n",
        "def fx(x, lamda):\n",
        "  return 0.5*norm(A@x-y)**2 + 0.5*lamda*np.dot(x,x)\n",
        "\n",
        "def grad_fx(x, lamda):\n",
        "  return np.dot(A.transpose(), A)@x - A.transpose()@y + lamda*x\n",
        "\n",
        "def hessian_fx(lamda):\n",
        "  return A.transpose()@A + lamda*np.identity(A.shape[1])\n",
        "\n",
        "def dk_fx(lamda):\n",
        "  return np.linalg.inv(hessian_fx(lamda))\n",
        "\n",
        "def get_alpha_bfgs(xk, alpha0, rho, gamma, Bk, lamda):\n",
        "  alpha = alpha0\n",
        "  pk = -grad_fx(xk, lamda)\n",
        "  while fx(xk + alpha*Bk@pk, lamda) > (fx(xk, lamda) + gamma*alpha*grad_fx(xk, lamda)@Bk@pk):\n",
        "    alpha = rho*alpha\n",
        "  return alpha\n",
        "\n",
        "\n",
        "def bfgs(x0, tau, alpha0, rho, gamma, lamda, max_iter=500):\n",
        "  xk = np.copy(x0)\n",
        "  n = len(x0)\n",
        "  Bk = np.eye(n)\n",
        "  count = 0\n",
        "  pk = grad_fx(xk, lamda)\n",
        "  xks = []\n",
        "  xks.append(xk)\n",
        "  while (norm(pk)>tau):\n",
        "    if count > max_iter:\n",
        "      break\n",
        "\n",
        "    alpha = get_alpha_bfgs(xk, alpha0, rho, gamma, Bk, lamda)\n",
        "    xnext = xk - alpha*(Bk@pk)\n",
        "    sk = xnext - xk\n",
        "    yk = grad_fx(xnext, lamda) - grad_fx(xk, lamda)\n",
        "\n",
        "    Bk = np.dot((np.eye(len(xk)) - np.outer(sk, yk) / np.dot(yk, sk)), np.dot(Bk, (np.eye(len(xk)) - np.outer(yk, sk) / np.dot(yk, sk)))) + np.outer(sk, sk) / np.dot(yk, sk)\n",
        "\n",
        "    xk = xnext\n",
        "    pk = grad_fx(xk, lamda)\n",
        "    xks.append(xk)\n",
        "    count += 1\n",
        "\n",
        "  return count, xk, fx(xk, lamda), xks\n",
        "\n",
        "x0 = np.array([0 for _ in range(64)])\n",
        "tau = 1e-5\n",
        "alpha0 = 0.99\n",
        "rho = 0.5\n",
        "gamma = 0.5\n",
        "\n",
        "\n",
        "lambdaxksbfgs = []\n",
        "iterationcountlambdabfgs = []\n",
        "timetakenbfgs = []\n",
        "\n",
        "lds = [10**(-3)]\n",
        "for lamda in lds:\n",
        "  start = time.time()\n",
        "  count, minimizer, minimum, xks=bfgs(x0,tau, alpha0, rho, gamma, lamda)\n",
        "  timetakenbfgs.append(time.time()- start)\n",
        "  print(\"Lembda\",lamda)\n",
        "  print(\"Number of iteration\",count)\n",
        "  print(\"Minimizer is \",minimizer,\"Minimum value is\",minimum,\"for bfgs\")\n",
        "  lambdaxksbfgs.append(xks)\n",
        "  iterationcountlambdabfgs.append(count)"
      ],
      "metadata": {
        "colab": {
          "base_uri": "https://localhost:8080/"
        },
        "id": "hqAUMVPxqXpW",
        "outputId": "b8e2c34f-4dce-4b60-ca65-d5b91c6ddac1"
      },
      "execution_count": null,
      "outputs": [
        {
          "output_type": "stream",
          "name": "stdout",
          "text": [
            "Lembda 0.001\n",
            "Number of iteration 70\n",
            "Minimizer is  [ 0.00000000e+00  9.69076882e-02 -4.32192762e-03 -7.75916338e-03\n",
            "  7.49591987e-02  1.13946582e-02 -2.71293921e-02 -7.34410664e-03\n",
            "  9.98267907e-01 -2.88089376e-02  1.18688356e-01  6.60922719e-02\n",
            " -5.57075915e-02 -6.97056149e-02  9.65844014e-02  2.55196013e-01\n",
            " -7.29830665e-01  2.42711745e-02  7.73241544e-02 -2.33008498e-02\n",
            " -5.64077619e-02  5.72413971e-02 -4.88675248e-02 -2.62555998e-01\n",
            " -9.06071170e-01 -1.49769638e-01  5.64022790e-02  8.96665319e-02\n",
            "  8.39315938e-02  9.85410047e-02  1.69269848e-03 -2.96649687e+00\n",
            "  0.00000000e+00 -1.54361470e-01 -9.32404639e-03  1.39497978e-01\n",
            " -3.69237437e-02  5.46111773e-02 -9.20425586e-03  0.00000000e+00\n",
            "  1.03326506e-01  1.23983484e-01 -1.37635230e-02  5.40029021e-03\n",
            "  1.31185700e-01  5.49577815e-02  2.24935899e-02  7.48046265e-03\n",
            "  6.17507773e-01  2.44100619e-02  1.42356436e-03 -6.21114801e-02\n",
            " -2.07024631e-01 -3.38510517e-02  1.05486785e-01 -1.40336482e-01\n",
            " -9.82347827e-01 -1.14473639e-01  2.10485229e-02 -4.36083412e-02\n",
            "  1.87372531e-02 -6.66562217e-02  1.19384465e-02 -5.27782515e-02] Minimum value is 3064.454188158828 for bfgs\n"
          ]
        }
      ]
    },
    {
      "cell_type": "markdown",
      "source": [
        "**Observation**\n",
        "\n",
        "For the optimization method with the initial function x*f, after 74 iterations and its minimum value is approximately 3064.4477111757.\n",
        "\n",
        "For the optimization method with the modified function x*fλ, after 70 iterations and its minimum value is approximately 3064.454188158828.\n",
        "\n",
        "So number of iteration and minimum value and minimizer is approx same in both cases"
      ],
      "metadata": {
        "id": "dTDrd62Wehij"
      }
    }
  ]
}